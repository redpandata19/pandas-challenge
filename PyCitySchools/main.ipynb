{
 "cells": [
  {
   "cell_type": "markdown",
   "id": "9b5a003b",
   "metadata": {},
   "source": [
    "# PyCity Schools Analysis\n",
    "- Your analysis here\n"
   ]
  },
  {
   "cell_type": "code",
   "execution_count": 1,
   "id": "99609a3e",
   "metadata": {},
   "outputs": [
    {
     "data": {
      "text/html": [
       "<div>\n",
       "<style scoped>\n",
       "    .dataframe tbody tr th:only-of-type {\n",
       "        vertical-align: middle;\n",
       "    }\n",
       "\n",
       "    .dataframe tbody tr th {\n",
       "        vertical-align: top;\n",
       "    }\n",
       "\n",
       "    .dataframe thead th {\n",
       "        text-align: right;\n",
       "    }\n",
       "</style>\n",
       "<table border=\"1\" class=\"dataframe\">\n",
       "  <thead>\n",
       "    <tr style=\"text-align: right;\">\n",
       "      <th></th>\n",
       "      <th>Student ID</th>\n",
       "      <th>student_name</th>\n",
       "      <th>gender</th>\n",
       "      <th>grade</th>\n",
       "      <th>school_name</th>\n",
       "      <th>reading_score</th>\n",
       "      <th>math_score</th>\n",
       "      <th>School ID</th>\n",
       "      <th>type</th>\n",
       "      <th>size</th>\n",
       "      <th>budget</th>\n",
       "    </tr>\n",
       "  </thead>\n",
       "  <tbody>\n",
       "    <tr>\n",
       "      <th>0</th>\n",
       "      <td>0</td>\n",
       "      <td>Paul Bradley</td>\n",
       "      <td>M</td>\n",
       "      <td>9th</td>\n",
       "      <td>Huang High School</td>\n",
       "      <td>66</td>\n",
       "      <td>79</td>\n",
       "      <td>0</td>\n",
       "      <td>District</td>\n",
       "      <td>2917</td>\n",
       "      <td>1910635</td>\n",
       "    </tr>\n",
       "    <tr>\n",
       "      <th>1</th>\n",
       "      <td>1</td>\n",
       "      <td>Victor Smith</td>\n",
       "      <td>M</td>\n",
       "      <td>12th</td>\n",
       "      <td>Huang High School</td>\n",
       "      <td>94</td>\n",
       "      <td>61</td>\n",
       "      <td>0</td>\n",
       "      <td>District</td>\n",
       "      <td>2917</td>\n",
       "      <td>1910635</td>\n",
       "    </tr>\n",
       "    <tr>\n",
       "      <th>2</th>\n",
       "      <td>2</td>\n",
       "      <td>Kevin Rodriguez</td>\n",
       "      <td>M</td>\n",
       "      <td>12th</td>\n",
       "      <td>Huang High School</td>\n",
       "      <td>90</td>\n",
       "      <td>60</td>\n",
       "      <td>0</td>\n",
       "      <td>District</td>\n",
       "      <td>2917</td>\n",
       "      <td>1910635</td>\n",
       "    </tr>\n",
       "    <tr>\n",
       "      <th>3</th>\n",
       "      <td>3</td>\n",
       "      <td>Dr. Richard Scott</td>\n",
       "      <td>M</td>\n",
       "      <td>12th</td>\n",
       "      <td>Huang High School</td>\n",
       "      <td>67</td>\n",
       "      <td>58</td>\n",
       "      <td>0</td>\n",
       "      <td>District</td>\n",
       "      <td>2917</td>\n",
       "      <td>1910635</td>\n",
       "    </tr>\n",
       "    <tr>\n",
       "      <th>4</th>\n",
       "      <td>4</td>\n",
       "      <td>Bonnie Ray</td>\n",
       "      <td>F</td>\n",
       "      <td>9th</td>\n",
       "      <td>Huang High School</td>\n",
       "      <td>97</td>\n",
       "      <td>84</td>\n",
       "      <td>0</td>\n",
       "      <td>District</td>\n",
       "      <td>2917</td>\n",
       "      <td>1910635</td>\n",
       "    </tr>\n",
       "  </tbody>\n",
       "</table>\n",
       "</div>"
      ],
      "text/plain": [
       "   Student ID       student_name gender grade        school_name  \\\n",
       "0           0       Paul Bradley      M   9th  Huang High School   \n",
       "1           1       Victor Smith      M  12th  Huang High School   \n",
       "2           2    Kevin Rodriguez      M  12th  Huang High School   \n",
       "3           3  Dr. Richard Scott      M  12th  Huang High School   \n",
       "4           4         Bonnie Ray      F   9th  Huang High School   \n",
       "\n",
       "   reading_score  math_score  School ID      type  size   budget  \n",
       "0             66          79          0  District  2917  1910635  \n",
       "1             94          61          0  District  2917  1910635  \n",
       "2             90          60          0  District  2917  1910635  \n",
       "3             67          58          0  District  2917  1910635  \n",
       "4             97          84          0  District  2917  1910635  "
      ]
     },
     "execution_count": 1,
     "metadata": {},
     "output_type": "execute_result"
    }
   ],
   "source": [
    "# Dependencies\n",
    "import pandas as pd\n",
    "from pathlib import Path\n",
    "\n",
    "# Path to files\n",
    "school_csv = Path(\"Resources/schools_complete.csv\")\n",
    "student_csv = Path(\"Resources/students_complete.csv\")\n",
    "\n",
    "# Read in CSV data to pandas DataFrames\n",
    "school_data_unq = pd.read_csv(school_csv)\n",
    "student_data_unq = pd.read_csv(student_csv)\n",
    "\n",
    "# Merge the data  \n",
    "school_merged_data = pd.merge(student_data_unq, school_data_unq, how=\"left\", on=[\"school_name\", \"school_name\"])\n",
    "school_merged_data.head()"
   ]
  },
  {
   "cell_type": "markdown",
   "id": "5987d6c0",
   "metadata": {},
   "source": [
    "## District Summary"
   ]
  },
  {
   "cell_type": "code",
   "execution_count": 2,
   "id": "db40ae92",
   "metadata": {},
   "outputs": [
    {
     "data": {
      "text/plain": [
       "15"
      ]
     },
     "execution_count": 2,
     "metadata": {},
     "output_type": "execute_result"
    }
   ],
   "source": [
    "# Count schools in the district\n",
    "total_schools = len(school_merged_data['school_name'].unique())\n",
    "total_schools"
   ]
  },
  {
   "cell_type": "code",
   "execution_count": 3,
   "id": "8eab9519",
   "metadata": {},
   "outputs": [
    {
     "data": {
      "text/plain": [
       "39170"
      ]
     },
     "execution_count": 3,
     "metadata": {},
     "output_type": "execute_result"
    }
   ],
   "source": [
    "# Total students\n",
    "total_students = len(school_merged_data['Student ID'])\n",
    "total_students"
   ]
  },
  {
   "cell_type": "code",
   "execution_count": 4,
   "id": "bd702127",
   "metadata": {},
   "outputs": [
    {
     "data": {
      "text/plain": [
       "24649428"
      ]
     },
     "execution_count": 4,
     "metadata": {},
     "output_type": "execute_result"
    }
   ],
   "source": [
    "# Total budget\n",
    "total_budget = school_data_unq['budget'].sum()\n",
    "total_budget"
   ]
  },
  {
   "cell_type": "code",
   "execution_count": 5,
   "id": "a4e0495b",
   "metadata": {},
   "outputs": [
    {
     "data": {
      "text/plain": [
       "78.98537145774827"
      ]
     },
     "execution_count": 5,
     "metadata": {},
     "output_type": "execute_result"
    }
   ],
   "source": [
    "# Average math score\n",
    "avg_math_score = school_merged_data['math_score'].mean()\n",
    "avg_math_score"
   ]
  },
  {
   "cell_type": "code",
   "execution_count": 6,
   "id": "25a58a83",
   "metadata": {},
   "outputs": [
    {
     "data": {
      "text/plain": [
       "81.87784018381414"
      ]
     },
     "execution_count": 6,
     "metadata": {},
     "output_type": "execute_result"
    }
   ],
   "source": [
    "# Average reading score\n",
    "avg_read_score = school_merged_data['reading_score'].mean()\n",
    "avg_read_score"
   ]
  },
  {
   "cell_type": "code",
   "execution_count": 7,
   "id": "04dd1e27",
   "metadata": {},
   "outputs": [
    {
     "data": {
      "text/plain": [
       "74.9808526933878"
      ]
     },
     "execution_count": 7,
     "metadata": {},
     "output_type": "execute_result"
    }
   ],
   "source": [
    "# % passing math (the percentage of students who passed math)\n",
    "students_pass_math = school_merged_data[(school_merged_data[\"math_score\"] >= 70)].count()[\"student_name\"]\n",
    "percent_pass_math = students_pass_math / float(total_students) * 100\n",
    "percent_pass_math"
   ]
  },
  {
   "cell_type": "code",
   "execution_count": 8,
   "id": "1d718886",
   "metadata": {},
   "outputs": [
    {
     "data": {
      "text/plain": [
       "85.80546336482001"
      ]
     },
     "execution_count": 8,
     "metadata": {},
     "output_type": "execute_result"
    }
   ],
   "source": [
    "# % passing reading (the percentage of students who passed reading)\n",
    "students_pass_read = school_merged_data[(school_merged_data[\"reading_score\"] >= 70)].count()[\"student_name\"]\n",
    "percent_pass_read = students_pass_read / float(total_students) * 100\n",
    "percent_pass_read"
   ]
  },
  {
   "cell_type": "code",
   "execution_count": 9,
   "id": "6c293fa5",
   "metadata": {},
   "outputs": [
    {
     "data": {
      "text/plain": [
       "65.17232575950983"
      ]
     },
     "execution_count": 9,
     "metadata": {},
     "output_type": "execute_result"
    }
   ],
   "source": [
    "# % overall passing (the percentage of students who passed math AND reading)\n",
    "students_pass_math_reading = school_merged_data[\n",
    "    (school_merged_data[\"math_score\"] >= 70) & (school_merged_data[\"reading_score\"] >= 70)\n",
    "].count()[\"student_name\"]\n",
    "overall_pass_rate = students_pass_math_reading /  float(total_students) * 100\n",
    "overall_pass_rate"
   ]
  },
  {
   "cell_type": "code",
   "execution_count": 10,
   "id": "527e77c3",
   "metadata": {},
   "outputs": [
    {
     "data": {
      "text/html": [
       "<div>\n",
       "<style scoped>\n",
       "    .dataframe tbody tr th:only-of-type {\n",
       "        vertical-align: middle;\n",
       "    }\n",
       "\n",
       "    .dataframe tbody tr th {\n",
       "        vertical-align: top;\n",
       "    }\n",
       "\n",
       "    .dataframe thead th {\n",
       "        text-align: right;\n",
       "    }\n",
       "</style>\n",
       "<table border=\"1\" class=\"dataframe\">\n",
       "  <thead>\n",
       "    <tr style=\"text-align: right;\">\n",
       "      <th></th>\n",
       "      <th>Total Schools</th>\n",
       "      <th>Total Students</th>\n",
       "      <th>Total Budget</th>\n",
       "      <th>Average Math Score</th>\n",
       "      <th>Average Reading Score</th>\n",
       "      <th>% Passing Math</th>\n",
       "      <th>% Passing Reading</th>\n",
       "      <th>% Overall Passing</th>\n",
       "    </tr>\n",
       "  </thead>\n",
       "  <tbody>\n",
       "    <tr>\n",
       "      <th>0</th>\n",
       "      <td>15</td>\n",
       "      <td>39,170</td>\n",
       "      <td>$24,649,428.00</td>\n",
       "      <td>78.985371</td>\n",
       "      <td>81.87784</td>\n",
       "      <td>74.980853</td>\n",
       "      <td>85.805463</td>\n",
       "      <td>65.172326</td>\n",
       "    </tr>\n",
       "  </tbody>\n",
       "</table>\n",
       "</div>"
      ],
      "text/plain": [
       "   Total Schools Total Students    Total Budget  Average Math Score  \\\n",
       "0             15         39,170  $24,649,428.00           78.985371   \n",
       "\n",
       "   Average Reading Score  % Passing Math  % Passing Reading  % Overall Passing  \n",
       "0               81.87784       74.980853          85.805463          65.172326  "
      ]
     },
     "execution_count": 10,
     "metadata": {},
     "output_type": "execute_result"
    }
   ],
   "source": [
    "# Create a high-level snapshot of the district's key metrics in a DataFrame\n",
    "district_summary_df = pd.DataFrame({'Total Schools': [total_schools],\n",
    "                                  'Total Students': [total_students],\n",
    "                                   'Total Budget':[total_budget],\n",
    "                                   'Average Math Score': [avg_math_score],\n",
    "                                   'Average Reading Score':[avg_read_score],\n",
    "                                   '% Passing Math':[percent_pass_math],\n",
    "                                   '% Passing Reading':[percent_pass_read],\n",
    "                                   '% Overall Passing':[overall_pass_rate]})\n",
    "\n",
    "# Format\n",
    "district_summary_df[\"Total Students\"] = district_summary_df[\"Total Students\"].map(\"{:,}\".format)\n",
    "district_summary_df[\"Total Budget\"] = district_summary_df[\"Total Budget\"].map(\"${:,.2f}\".format)\n",
    "\n",
    "# Display\n",
    "district_summary_df"
   ]
  },
  {
   "cell_type": "markdown",
   "id": "11dec23a",
   "metadata": {},
   "source": [
    "## School Summary"
   ]
  },
  {
   "cell_type": "code",
   "execution_count": 11,
   "id": "2b5381a6",
   "metadata": {},
   "outputs": [],
   "source": [
    "# select school types\n",
    "school_types = pd.DataFrame(school_data_unq[['school_name','type']])"
   ]
  },
  {
   "cell_type": "code",
   "execution_count": 12,
   "id": "3ffad34d",
   "metadata": {
    "scrolled": true
   },
   "outputs": [
    {
     "data": {
      "text/html": [
       "<div>\n",
       "<style scoped>\n",
       "    .dataframe tbody tr th:only-of-type {\n",
       "        vertical-align: middle;\n",
       "    }\n",
       "\n",
       "    .dataframe tbody tr th {\n",
       "        vertical-align: top;\n",
       "    }\n",
       "\n",
       "    .dataframe thead th {\n",
       "        text-align: right;\n",
       "    }\n",
       "</style>\n",
       "<table border=\"1\" class=\"dataframe\">\n",
       "  <thead>\n",
       "    <tr style=\"text-align: right;\">\n",
       "      <th></th>\n",
       "      <th>Student ID</th>\n",
       "    </tr>\n",
       "    <tr>\n",
       "      <th>school_name</th>\n",
       "      <th></th>\n",
       "    </tr>\n",
       "  </thead>\n",
       "  <tbody>\n",
       "    <tr>\n",
       "      <th>Bailey High School</th>\n",
       "      <td>4976</td>\n",
       "    </tr>\n",
       "    <tr>\n",
       "      <th>Cabrera High School</th>\n",
       "      <td>1858</td>\n",
       "    </tr>\n",
       "    <tr>\n",
       "      <th>Figueroa High School</th>\n",
       "      <td>2949</td>\n",
       "    </tr>\n",
       "    <tr>\n",
       "      <th>Ford High School</th>\n",
       "      <td>2739</td>\n",
       "    </tr>\n",
       "    <tr>\n",
       "      <th>Griffin High School</th>\n",
       "      <td>1468</td>\n",
       "    </tr>\n",
       "    <tr>\n",
       "      <th>Hernandez High School</th>\n",
       "      <td>4635</td>\n",
       "    </tr>\n",
       "    <tr>\n",
       "      <th>Holden High School</th>\n",
       "      <td>427</td>\n",
       "    </tr>\n",
       "    <tr>\n",
       "      <th>Huang High School</th>\n",
       "      <td>2917</td>\n",
       "    </tr>\n",
       "    <tr>\n",
       "      <th>Johnson High School</th>\n",
       "      <td>4761</td>\n",
       "    </tr>\n",
       "    <tr>\n",
       "      <th>Pena High School</th>\n",
       "      <td>962</td>\n",
       "    </tr>\n",
       "    <tr>\n",
       "      <th>Rodriguez High School</th>\n",
       "      <td>3999</td>\n",
       "    </tr>\n",
       "    <tr>\n",
       "      <th>Shelton High School</th>\n",
       "      <td>1761</td>\n",
       "    </tr>\n",
       "    <tr>\n",
       "      <th>Thomas High School</th>\n",
       "      <td>1635</td>\n",
       "    </tr>\n",
       "    <tr>\n",
       "      <th>Wilson High School</th>\n",
       "      <td>2283</td>\n",
       "    </tr>\n",
       "    <tr>\n",
       "      <th>Wright High School</th>\n",
       "      <td>1800</td>\n",
       "    </tr>\n",
       "  </tbody>\n",
       "</table>\n",
       "</div>"
      ],
      "text/plain": [
       "                       Student ID\n",
       "school_name                      \n",
       "Bailey High School           4976\n",
       "Cabrera High School          1858\n",
       "Figueroa High School         2949\n",
       "Ford High School             2739\n",
       "Griffin High School          1468\n",
       "Hernandez High School        4635\n",
       "Holden High School            427\n",
       "Huang High School            2917\n",
       "Johnson High School          4761\n",
       "Pena High School              962\n",
       "Rodriguez High School        3999\n",
       "Shelton High School          1761\n",
       "Thomas High School           1635\n",
       "Wilson High School           2283\n",
       "Wright High School           1800"
      ]
     },
     "execution_count": 12,
     "metadata": {},
     "output_type": "execute_result"
    }
   ],
   "source": [
    "# Total students (per school)\n",
    "students_per_school = pd.DataFrame(school_merged_data.groupby('school_name')['Student ID'].count())\n",
    "students_per_school"
   ]
  },
  {
   "cell_type": "code",
   "execution_count": 33,
   "id": "05cc4da8",
   "metadata": {},
   "outputs": [],
   "source": [
    "# Total school budget and per capita spending (per school)\n",
    "budget_per_school = pd.DataFrame(school_data_unq[['school_name','budget']])\n",
    "per_school_capita = pd.DataFrame({'school_name': school_data_unq['school_name'],\n",
    "                                  'Per Student Budget': school_data_unq['budget'] / school_data_unq['size']})\n"
   ]
  },
  {
   "cell_type": "code",
   "execution_count": 14,
   "id": "4b1e67b9",
   "metadata": {},
   "outputs": [],
   "source": [
    "# Average test scores (per school)\n",
    "avg_math_per_school = pd.DataFrame(school_merged_data.groupby('school_name')['math_score'].mean())\n",
    "avg_read_per_school = pd.DataFrame(school_merged_data.groupby('school_name')['reading_score'].mean())"
   ]
  },
  {
   "cell_type": "code",
   "execution_count": 15,
   "id": "890fd6c8",
   "metadata": {},
   "outputs": [],
   "source": [
    "# #students w/ math >= 70 (per school)\n",
    "stu_pass_math_per = pd.DataFrame(school_merged_data[school_merged_data[\"math_score\"] >= 70].groupby('school_name')['Student ID'].count())"
   ]
  },
  {
   "cell_type": "code",
   "execution_count": 16,
   "id": "7e21e904",
   "metadata": {},
   "outputs": [],
   "source": [
    "# #students w/ reading >= 70 (per school) \n",
    "stu_pass_read_per = pd.DataFrame(school_merged_data[school_merged_data[\"reading_score\"] >= 70].groupby('school_name')['Student ID'].count())"
   ]
  },
  {
   "cell_type": "code",
   "execution_count": 17,
   "id": "0b7d1532",
   "metadata": {},
   "outputs": [],
   "source": [
    "# Use the provided code to calculate the number of students per school that passed both math and reading with scores of 70 or higher\n",
    "students_pass_math_read = pd.DataFrame(school_merged_data[\n",
    "    (school_merged_data[\"reading_score\"] >= 70) & (school_merged_data[\"math_score\"] >= 70)])\n",
    "students_pass_math_read = pd.DataFrame(students_pass_math_read.groupby([\"school_name\"]).size())"
   ]
  },
  {
   "cell_type": "code",
   "execution_count": 39,
   "id": "5a0cf6e4",
   "metadata": {},
   "outputs": [],
   "source": [
    "# Use the provided code to calculate the passing rates\n",
    "perc_pass_math_per = pd.DataFrame(stu_pass_math_per['Student ID'] / students_per_school['Student ID'] * 100)\n",
    "perc_pass_read_per = pd.DataFrame(stu_pass_read_per['Student ID'] / students_per_school['Student ID'] * 100)\n",
    "overall_pass_rate = pd.DataFrame(students_pass_math_read[0] / students_per_school['Student ID'] * 100)"
   ]
  },
  {
   "cell_type": "code",
   "execution_count": 42,
   "id": "a29f0e9a",
   "metadata": {},
   "outputs": [
    {
     "data": {
      "text/html": [
       "<div>\n",
       "<style scoped>\n",
       "    .dataframe tbody tr th:only-of-type {\n",
       "        vertical-align: middle;\n",
       "    }\n",
       "\n",
       "    .dataframe tbody tr th {\n",
       "        vertical-align: top;\n",
       "    }\n",
       "\n",
       "    .dataframe thead th {\n",
       "        text-align: right;\n",
       "    }\n",
       "</style>\n",
       "<table border=\"1\" class=\"dataframe\">\n",
       "  <thead>\n",
       "    <tr style=\"text-align: right;\">\n",
       "      <th></th>\n",
       "      <th>School Name</th>\n",
       "      <th>School Type</th>\n",
       "      <th>Total Students</th>\n",
       "      <th>Total School Budget</th>\n",
       "      <th>Per Student Budget</th>\n",
       "      <th>Average Math Score</th>\n",
       "      <th>Average Reading Score</th>\n",
       "      <th>% Passing Math</th>\n",
       "      <th>% Passing Reading</th>\n",
       "      <th>% Overall Passing</th>\n",
       "    </tr>\n",
       "  </thead>\n",
       "  <tbody>\n",
       "    <tr>\n",
       "      <th>0</th>\n",
       "      <td>Huang High School</td>\n",
       "      <td>District</td>\n",
       "      <td>2917</td>\n",
       "      <td>$1,910,635.00</td>\n",
       "      <td>$655.00</td>\n",
       "      <td>76.629414</td>\n",
       "      <td>81.182722</td>\n",
       "      <td>65.683922</td>\n",
       "      <td>81.316421</td>\n",
       "      <td>53.513884</td>\n",
       "    </tr>\n",
       "    <tr>\n",
       "      <th>1</th>\n",
       "      <td>Figueroa High School</td>\n",
       "      <td>District</td>\n",
       "      <td>2949</td>\n",
       "      <td>$1,884,411.00</td>\n",
       "      <td>$639.00</td>\n",
       "      <td>76.711767</td>\n",
       "      <td>81.158020</td>\n",
       "      <td>65.988471</td>\n",
       "      <td>80.739234</td>\n",
       "      <td>53.204476</td>\n",
       "    </tr>\n",
       "    <tr>\n",
       "      <th>2</th>\n",
       "      <td>Shelton High School</td>\n",
       "      <td>Charter</td>\n",
       "      <td>1761</td>\n",
       "      <td>$1,056,600.00</td>\n",
       "      <td>$600.00</td>\n",
       "      <td>83.359455</td>\n",
       "      <td>83.725724</td>\n",
       "      <td>93.867121</td>\n",
       "      <td>95.854628</td>\n",
       "      <td>89.892107</td>\n",
       "    </tr>\n",
       "    <tr>\n",
       "      <th>3</th>\n",
       "      <td>Hernandez High School</td>\n",
       "      <td>District</td>\n",
       "      <td>4635</td>\n",
       "      <td>$3,022,020.00</td>\n",
       "      <td>$652.00</td>\n",
       "      <td>77.289752</td>\n",
       "      <td>80.934412</td>\n",
       "      <td>66.752967</td>\n",
       "      <td>80.862999</td>\n",
       "      <td>53.527508</td>\n",
       "    </tr>\n",
       "    <tr>\n",
       "      <th>4</th>\n",
       "      <td>Griffin High School</td>\n",
       "      <td>Charter</td>\n",
       "      <td>1468</td>\n",
       "      <td>$917,500.00</td>\n",
       "      <td>$625.00</td>\n",
       "      <td>83.351499</td>\n",
       "      <td>83.816757</td>\n",
       "      <td>93.392371</td>\n",
       "      <td>97.138965</td>\n",
       "      <td>90.599455</td>\n",
       "    </tr>\n",
       "  </tbody>\n",
       "</table>\n",
       "</div>"
      ],
      "text/plain": [
       "             School Name School Type  Total Students Total School Budget  \\\n",
       "0      Huang High School    District            2917       $1,910,635.00   \n",
       "1   Figueroa High School    District            2949       $1,884,411.00   \n",
       "2    Shelton High School     Charter            1761       $1,056,600.00   \n",
       "3  Hernandez High School    District            4635       $3,022,020.00   \n",
       "4    Griffin High School     Charter            1468         $917,500.00   \n",
       "\n",
       "  Per Student Budget  Average Math Score  Average Reading Score  \\\n",
       "0            $655.00           76.629414              81.182722   \n",
       "1            $639.00           76.711767              81.158020   \n",
       "2            $600.00           83.359455              83.725724   \n",
       "3            $652.00           77.289752              80.934412   \n",
       "4            $625.00           83.351499              83.816757   \n",
       "\n",
       "   % Passing Math  % Passing Reading  % Overall Passing  \n",
       "0       65.683922          81.316421          53.513884  \n",
       "1       65.988471          80.739234          53.204476  \n",
       "2       93.867121          95.854628          89.892107  \n",
       "3       66.752967          80.862999          53.527508  \n",
       "4       93.392371          97.138965          90.599455  "
      ]
     },
     "execution_count": 42,
     "metadata": {},
     "output_type": "execute_result"
    }
   ],
   "source": [
    "# Create a DataFrame called `per_school_summary` with columns for the calculations above.\n",
    "per_school_summary = pd.merge(school_types,students_per_school, on=\"school_name\",how='outer')\n",
    "per_school_summary = pd.merge(per_school_summary, budget_per_school,on=\"school_name\",how='outer')\n",
    "per_school_summary = pd.merge(per_school_summary, per_school_capita,on=\"school_name\",how='outer')\n",
    "per_school_summary = pd.merge(per_school_summary, avg_math_per_school,on=\"school_name\",how='outer')\n",
    "per_school_summary = pd.merge(per_school_summary, avg_read_per_school,on=\"school_name\",how='outer')\n",
    "per_school_summary = pd.merge(per_school_summary, perc_pass_math_per,on=\"school_name\",how='outer')\n",
    "per_school_summary = pd.merge(per_school_summary, perc_pass_read_per,on=\"school_name\",how='outer')\n",
    "per_school_summary = pd.merge(per_school_summary, overall_pass_rate,on=\"school_name\",how='outer')\n",
    "# Rename columns\n",
    "per_school_summary.columns = ['School Name', 'School Type', 'Total Students', 'Total School Budget','Per Student Budget','Average Math Score', 'Average Reading Score', '% Passing Math', '% Passing Reading', '% Overall Passing']\n",
    "# Formatting\n",
    "per_school_summary[\"Total School Budget\"] = per_school_summary[\"Total School Budget\"].map(\"${:,.2f}\".format)\n",
    "per_school_summary[\"Per Student Budget\"] = per_school_summary[\"Per Student Budget\"].map(\"${:,.2f}\".format)\n",
    "\n",
    "# Display the DataFrame\n",
    "per_school_summary.head()"
   ]
  },
  {
   "cell_type": "markdown",
   "id": "220bd2c4",
   "metadata": {},
   "source": [
    "## Highest-Performing Schools (by % Overall Passing)"
   ]
  },
  {
   "cell_type": "code",
   "execution_count": 46,
   "id": "8e225a69",
   "metadata": {},
   "outputs": [
    {
     "data": {
      "text/html": [
       "<div>\n",
       "<style scoped>\n",
       "    .dataframe tbody tr th:only-of-type {\n",
       "        vertical-align: middle;\n",
       "    }\n",
       "\n",
       "    .dataframe tbody tr th {\n",
       "        vertical-align: top;\n",
       "    }\n",
       "\n",
       "    .dataframe thead th {\n",
       "        text-align: right;\n",
       "    }\n",
       "</style>\n",
       "<table border=\"1\" class=\"dataframe\">\n",
       "  <thead>\n",
       "    <tr style=\"text-align: right;\">\n",
       "      <th></th>\n",
       "      <th>School Name</th>\n",
       "      <th>School Type</th>\n",
       "      <th>Total Students</th>\n",
       "      <th>Total School Budget</th>\n",
       "      <th>Per Student Budget</th>\n",
       "      <th>Average Math Score</th>\n",
       "      <th>Average Reading Score</th>\n",
       "      <th>% Passing Math</th>\n",
       "      <th>% Passing Reading</th>\n",
       "      <th>% Overall Passing</th>\n",
       "    </tr>\n",
       "  </thead>\n",
       "  <tbody>\n",
       "    <tr>\n",
       "      <th>6</th>\n",
       "      <td>Cabrera High School</td>\n",
       "      <td>Charter</td>\n",
       "      <td>1858</td>\n",
       "      <td>$1,081,356.00</td>\n",
       "      <td>$582.00</td>\n",
       "      <td>83.061895</td>\n",
       "      <td>83.975780</td>\n",
       "      <td>94.133477</td>\n",
       "      <td>97.039828</td>\n",
       "      <td>91.334769</td>\n",
       "    </tr>\n",
       "    <tr>\n",
       "      <th>14</th>\n",
       "      <td>Thomas High School</td>\n",
       "      <td>Charter</td>\n",
       "      <td>1635</td>\n",
       "      <td>$1,043,130.00</td>\n",
       "      <td>$638.00</td>\n",
       "      <td>83.418349</td>\n",
       "      <td>83.848930</td>\n",
       "      <td>93.272171</td>\n",
       "      <td>97.308869</td>\n",
       "      <td>90.948012</td>\n",
       "    </tr>\n",
       "    <tr>\n",
       "      <th>4</th>\n",
       "      <td>Griffin High School</td>\n",
       "      <td>Charter</td>\n",
       "      <td>1468</td>\n",
       "      <td>$917,500.00</td>\n",
       "      <td>$625.00</td>\n",
       "      <td>83.351499</td>\n",
       "      <td>83.816757</td>\n",
       "      <td>93.392371</td>\n",
       "      <td>97.138965</td>\n",
       "      <td>90.599455</td>\n",
       "    </tr>\n",
       "    <tr>\n",
       "      <th>5</th>\n",
       "      <td>Wilson High School</td>\n",
       "      <td>Charter</td>\n",
       "      <td>2283</td>\n",
       "      <td>$1,319,574.00</td>\n",
       "      <td>$578.00</td>\n",
       "      <td>83.274201</td>\n",
       "      <td>83.989488</td>\n",
       "      <td>93.867718</td>\n",
       "      <td>96.539641</td>\n",
       "      <td>90.582567</td>\n",
       "    </tr>\n",
       "    <tr>\n",
       "      <th>9</th>\n",
       "      <td>Pena High School</td>\n",
       "      <td>Charter</td>\n",
       "      <td>962</td>\n",
       "      <td>$585,858.00</td>\n",
       "      <td>$609.00</td>\n",
       "      <td>83.839917</td>\n",
       "      <td>84.044699</td>\n",
       "      <td>94.594595</td>\n",
       "      <td>95.945946</td>\n",
       "      <td>90.540541</td>\n",
       "    </tr>\n",
       "  </tbody>\n",
       "</table>\n",
       "</div>"
      ],
      "text/plain": [
       "            School Name School Type  Total Students Total School Budget  \\\n",
       "6   Cabrera High School     Charter            1858       $1,081,356.00   \n",
       "14   Thomas High School     Charter            1635       $1,043,130.00   \n",
       "4   Griffin High School     Charter            1468         $917,500.00   \n",
       "5    Wilson High School     Charter            2283       $1,319,574.00   \n",
       "9      Pena High School     Charter             962         $585,858.00   \n",
       "\n",
       "   Per Student Budget  Average Math Score  Average Reading Score  \\\n",
       "6             $582.00           83.061895              83.975780   \n",
       "14            $638.00           83.418349              83.848930   \n",
       "4             $625.00           83.351499              83.816757   \n",
       "5             $578.00           83.274201              83.989488   \n",
       "9             $609.00           83.839917              84.044699   \n",
       "\n",
       "    % Passing Math  % Passing Reading  % Overall Passing  \n",
       "6        94.133477          97.039828          91.334769  \n",
       "14       93.272171          97.308869          90.948012  \n",
       "4        93.392371          97.138965          90.599455  \n",
       "5        93.867718          96.539641          90.582567  \n",
       "9        94.594595          95.945946          90.540541  "
      ]
     },
     "execution_count": 46,
     "metadata": {},
     "output_type": "execute_result"
    }
   ],
   "source": [
    "# Sort the schools by `% Overall Passing` in descending order and display the top 5 rows.\n",
    "high_perf_schools = per_school_summary.sort_values('% Overall Passing',ascending=False)\n",
    "high_perf_schools.head(5)"
   ]
  },
  {
   "cell_type": "markdown",
   "id": "9da2c609",
   "metadata": {},
   "source": [
    "## Lowest-Performing Schools (by % Overall Passing)"
   ]
  },
  {
   "cell_type": "code",
   "execution_count": null,
   "id": "b50ba480",
   "metadata": {},
   "outputs": [],
   "source": []
  },
  {
   "cell_type": "markdown",
   "id": "96fa40bb",
   "metadata": {},
   "source": [
    "## Math Scores by Grade"
   ]
  },
  {
   "cell_type": "code",
   "execution_count": null,
   "id": "2d45e53a",
   "metadata": {},
   "outputs": [],
   "source": []
  },
  {
   "cell_type": "markdown",
   "id": "2e249366",
   "metadata": {},
   "source": [
    "## Reading Scores by Grade"
   ]
  },
  {
   "cell_type": "code",
   "execution_count": null,
   "id": "541e9cd3",
   "metadata": {},
   "outputs": [],
   "source": []
  },
  {
   "cell_type": "markdown",
   "id": "27bd4dc8",
   "metadata": {},
   "source": [
    "## Scores by School Spending"
   ]
  },
  {
   "cell_type": "code",
   "execution_count": null,
   "id": "ade9f254",
   "metadata": {},
   "outputs": [],
   "source": []
  },
  {
   "cell_type": "markdown",
   "id": "58fc2758",
   "metadata": {},
   "source": [
    "## Scores by School Size"
   ]
  },
  {
   "cell_type": "code",
   "execution_count": null,
   "id": "2df2c15d",
   "metadata": {},
   "outputs": [],
   "source": []
  },
  {
   "cell_type": "markdown",
   "id": "aaa1fa71",
   "metadata": {},
   "source": [
    "## Scores by School Type"
   ]
  },
  {
   "cell_type": "code",
   "execution_count": null,
   "id": "9f6d6bf4",
   "metadata": {},
   "outputs": [],
   "source": []
  }
 ],
 "metadata": {
  "kernelspec": {
   "display_name": "Python 3 (ipykernel)",
   "language": "python",
   "name": "python3"
  },
  "language_info": {
   "codemirror_mode": {
    "name": "ipython",
    "version": 3
   },
   "file_extension": ".py",
   "mimetype": "text/x-python",
   "name": "python",
   "nbconvert_exporter": "python",
   "pygments_lexer": "ipython3",
   "version": "3.10.13"
  }
 },
 "nbformat": 4,
 "nbformat_minor": 5
}
